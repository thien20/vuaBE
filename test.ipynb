{
 "cells": [
  {
   "cell_type": "code",
   "execution_count": null,
   "metadata": {},
   "outputs": [],
   "source": [
    "import requests\n",
    "\n",
    "original_url = 'https://vnexpress.net/thoi-su'\n",
    "\n",
    "\n",
    "response = requests.get(original_url)\n",
    "html_content = response.text\n",
    "print(html_content)\n"
   ]
  },
  {
   "cell_type": "code",
   "execution_count": 12,
   "metadata": {},
   "outputs": [
    {
     "name": "stdout",
     "output_type": "stream",
     "text": [
      "{('https://vnexpress.net/ong-nguyen-van-hieu-lam-pho-ban-tuyen-giao-trung-uong-4840268.html', 'Ông Nguyễn Văn Hiếu làm Phó ban Tuyên giáo Trung ương'), ('https://vnexpress.net/xuong-lam-linh-vat-ran-khong-lo-duong-hoa-nguyen-hue-4839436.html', 'Xưởng làm linh vật rắn khổng lồ đường hoa Nguyễn Huệ'), ('https://vnexpress.net/pho-chu-tich-tinh-dong-thap-huynh-minh-tuan-bi-khien-trach-4839117.html', 'Phó chủ tịch tỉnh Đồng Tháp Huỳnh Minh Tuấn bị khiển trách'), ('https://vnexpress.net/metro-ben-thanh-suoi-tien-se-cho-khach-xuyen-dem-giao-thua-4840477.html', 'Metro Bến Thành - Suối Tiên sẽ chở khách xuyên đêm giao thừa'), ('https://vnexpress.net/pho-bi-thu-tp-hcm-lam-bi-thu-ca-mau-4840420.html', 'Phó bí thư TP HCM làm Bí thư Cà Mau'), ('https://vnexpress.net/nhieu-chang-tau-xe-kin-cho-dip-tet-4838709.html', 'Nhiều chặng tàu, xe kín chỗ dịp Tết'), ('https://vnexpress.net/bo-tai-nguyen-moi-truong-phuong-an-cua-ha-noi-chua-lam-song-lai-song-to-lich-4839720.html', \"Bộ Tài nguyên Môi trường: Phương án của Hà Nội 'chưa làm sống lại sông Tô Lịch'\"), ('https://vnexpress.net/chay-chung-cu-20-tang-o-tp-hcm-4839554.html', 'Cháy chung cư 20 tầng ở TP HCM'), ('https://vnexpress.net/khoi-cong-du-an-nha-khach-ho-tay-4839396.html', 'Khởi công dự án nhà khách Hồ Tây'), ('https://vnexpress.net/tp-hcm-ban-phao-hoa-15-diem-mung-tet-at-ty-4838765.html', 'TP HCM bắn pháo hoa 15 điểm mừng Tết Ất Tỵ'), ('https://vnexpress.net/tang-130-trieu-usd-de-xu-ly-dioxin-san-bay-bien-hoa-4840175.html', 'Tăng 130 triệu USD để xử lý dioxin sân bay Biên Hòa'), ('https://vnexpress.net/tre-mam-non-bi-nguoi-la-vao-truong-dan-di-4838881.html', 'Trẻ mầm non bị người lạ vào trường dẫn đi'), ('https://vnexpress.net/chinh-phu-bo-cap-tong-cuc-4838792.html', 'Chính phủ bỏ cấp tổng cục'), ('https://vnexpress.net/khong-khi-lanh-tang-cuong-mien-bac-4838901.html', 'Không khí lạnh tăng cường miền Bắc'), ('https://vnexpress.net/nhung-bao-vat-quoc-gia-nghin-nam-tuoi-4838668.html', 'Những bảo vật quốc gia nghìn năm tuổi'), ('https://vnexpress.net/de-xuat-khong-to-chuc-hdnd-quan-phuong-o-ca-nuoc-4838741.html', 'Đề xuất không tổ chức HĐND quận, phường ở cả nước'), ('https://vnexpress.net/cong-vien-phung-khoang-sap-hoan-thanh-4839918.html', 'Công viên Phùng Khoang sắp hoàn thành'), ('https://vnexpress.net/khach-di-may-bay-tai-tan-son-nhat-se-tang-ky-luc-dip-tet-4839562.html', 'Khách đi máy bay tại Tân Sơn Nhất sẽ tăng kỷ lục dịp Tết'), ('https://vnexpress.net/kien-giang-co-tan-bi-thu-tinh-uy-4840339.html', 'Kiên Giang có tân Bí thư Tỉnh ủy'), ('https://vnexpress.net/hon-174-000-truong-hop-vi-pham-giao-thong-trong-hai-tuan-4839184.html', 'Hơn 174.000 trường hợp vi phạm giao thông trong hai tuần'), ('https://vnexpress.net/duong-ha-noi-tp-hcm-un-tac-ngay-dem-dip-can-tet-4839125.html', 'Đường Hà Nội, TP HCM ùn tắc ngày đêm dịp cận Tết'), ('https://vnexpress.net/thu-tuong-yeu-cau-khac-phuc-un-tac-giao-thong-tai-ha-noi-va-tp-hcm-4838796.html', 'Thủ tướng yêu cầu khắc phục ùn tắc giao thông tại Hà Nội và TP HCM'), ('https://vnexpress.net/bang-gia-xuat-hien-o-vung-cao-nghe-an-4838637.html', 'Băng giá xuất hiện ở vùng cao Nghệ An'), ('https://vnexpress.net/dam-trung-oto-ba-nguoi-di-xe-may-tu-vong-4840049.html', 'Đâm trúng ôtô, ba người đi xe máy tử vong'), ('https://vnexpress.net/ong-nguyen-manh-hung-lam-chu-tich-ubnd-tinh-thai-binh-4839539.html', 'Ông Nguyễn Mạnh Hùng làm Chủ tịch UBND tỉnh Thái Bình'), ('https://vnexpress.net/gui-tet-den-chien-si-mu-noi-xanh-o-chau-phi-4839555.html', \"'Gửi Tết' đến chiến sĩ mũ nồi xanh ở châu Phi\"), ('https://vnexpress.net/luong-huu-binh-quan-gan-7-trieu-dong-moi-thang-4839148.html', 'Lương hưu bình quân gần 7 triệu đồng mỗi tháng'), ('https://vnexpress.net/cach-tinh-tro-cap-voi-can-bo-cong-chuc-nghi-viec-khi-tinh-gon-bo-may-4840192.html', 'Cách tính trợ cấp với cán bộ công chức nghỉ việc khi tinh gọn bộ máy'), ('https://vnexpress.net/vi-sao-metro-ben-thanh-suoi-tien-bi-gian-doan-khi-mua-lon-vnepre-4840140.html', 'Vì sao metro Bến Thành - Suối Tiên bị gián đoạn khi mưa lớn?'), ('https://vnexpress.net/lang-hoa-lon-nhat-mien-tay-vao-vu-tet-4839179.html', 'Làng hoa lớn nhất miền Tây vào vụ Tết'), ('https://vnexpress.net/ha-noi-thi-diem-to-chuc-giao-thong-nut-khuat-duy-tien-nguyen-trai-4839951.html', 'Hà Nội thí điểm tổ chức giao thông nút Khuất Duy Tiến - Nguyễn Trãi'), ('https://vnexpress.net/song-hong-se-la-truc-canh-quan-trung-tam-cua-thu-do-4839025.html', 'Sông Hồng sẽ là trục cảnh quan trung tâm của Thủ đô'), ('https://vnexpress.net/bi-thu-kien-giang-lam-bi-thu-can-tho-4840135.html', 'Bí thư Kiên Giang làm Bí thư Cần Thơ'), ('https://vnexpress.net/ong-duong-van-an-thoi-nhiem-vu-dai-bieu-quoc-hoi-4839547.html', 'Ông Dương Văn An thôi nhiệm vụ đại biểu Quốc hội'), ('https://vnexpress.net/ngu-dan-mien-trung-trung-dam-tom-hum-nhi-4839584.html', 'Ngư dân miền Trung trúng đậm tôm hùm nhí'), ('https://vnexpress.net/quy-bhxh-se-chi-tra-cho-nguoi-ve-huu-truoc-tuoi-dien-tinh-gon-bo-may-4839196.html', 'Quỹ BHXH sẽ chi trả cho người về hưu trước tuổi diện tinh gọn bộ máy'), ('https://vnexpress.net/thu-tuong-chap-thuan-chu-truong-dau-tu-cang-can-gio-4839857.html', 'Thủ tướng chấp thuận chủ trương đầu tư cảng Cần Giờ'), ('https://vnexpress.net/kenh-tung-bi-lap-o-tp-hcm-hoi-sinh-sau-10-nam-cai-tao-4840043.html', 'Kênh từng bị lấp ở TP HCM hồi sinh sau 10 năm cải tạo'), ('https://vnexpress.net/gan-1-1-trieu-nguoi-rut-bao-hiem-xa-hoi-mot-lan-4839155.html', 'Gần 1,1 triệu người rút bảo hiểm xã hội một lần'), ('https://vnexpress.net/ket-xe-o-trung-tam-tp-hcm-tang-17-dip-can-tet-4838647.html', 'Kẹt xe ở trung tâm TP HCM tăng 17% dịp cận Tết'), ('https://vnexpress.net/ha-noi-co-them-ba-tuyen-xe-buyt-dien-4840170.html', 'Hà Nội có thêm ba tuyến xe buýt điện'), ('https://vnexpress.net/mien-bac-don-khong-khi-lanh-manh-dip-tet-at-ty-4840038.html', 'Miền Bắc đón không khí lạnh mạnh dịp Tết Ất Tỵ'), ('https://vnexpress.net/gioi-thieu-chu-tich-can-tho-ve-uy-ban-mttq-viet-nam-4840341.html', 'Giới thiệu Chủ tịch Cần Thơ về Ủy ban MTTQ Việt Nam'), ('https://vnexpress.net/phuong-an-to-chuc-giao-thong-tren-cao-toc-ben-luc-long-thanh-4838949.html', 'Phương án tổ chức giao thông trên cao tốc Bến Lức - Long Thành'), ('https://vnexpress.net/metro-ben-thanh-suoi-tien-gian-doan-gan-mot-gio-do-loi-tin-hieu-4839174.html', 'Metro Bến Thành - Suối Tiên gián đoạn gần một giờ do lỗi tín hiệu'), ('https://vnexpress.net/xe-container-lao-vao-tram-thu-phi-tren-cao-toc-dien-chau-bai-vot-4840478.html', 'Xe container lao vào trạm thu phí trên cao tốc Diễn Châu - Bãi Vọt'), ('https://vnexpress.net/cao-toc-tp-hcm-long-thanh-co-the-mo-rong-bang-von-trai-phieu-chinh-phu-4839456.html', 'Cao tốc TP HCM - Long Thành có thể mở rộng bằng vốn trái phiếu Chính phủ')}\n"
     ]
    }
   ],
   "source": [
    "from bs4 import BeautifulSoup\n",
    "\n",
    "soup = BeautifulSoup(html_content, 'html.parser')\n",
    "h3_tags = soup.find_all('h3')\n",
    "\n",
    "links_titles = set()\n",
    "for tag in h3_tags:\n",
    "    a_tag = tag.find('a')\n",
    "    if a_tag:\n",
    "        link = a_tag.get('href')\n",
    "        title = a_tag.get('title')\n",
    "        links_titles.add((link, title))\n",
    "\n",
    "print(links_titles)"
   ]
  },
  {
   "cell_type": "code",
   "execution_count": 51,
   "metadata": {},
   "outputs": [],
   "source": [
    "from bs4 import BeautifulSoup\n",
    "import requests\n",
    "\n",
    "def process_p_contents(p_contents):\n",
    "    return \" \".join(p_contents)\n",
    "\n",
    "def scrape_data_by_cate(url):\n",
    "    # Fetch and parse the main category page\n",
    "    response = requests.get(url)\n",
    "    if response.status_code != 200:\n",
    "        print(f\"Failed to fetch URL: {url}, Status Code: {response.status_code}\")\n",
    "        return []\n",
    "\n",
    "    html_content = response.text\n",
    "    soup = BeautifulSoup(html_content, 'html.parser')\n",
    "    h3_tags = soup.find_all('h3')\n",
    "    \n",
    "    # Store the scraped data\n",
    "    scraped_data = []\n",
    "\n",
    "    id = 0\n",
    "    for tag in h3_tags:\n",
    "        a_tag = tag.find('a')\n",
    "        if a_tag:\n",
    "            link = a_tag.get('href')\n",
    "            title = a_tag.get('title')\n",
    "            \n",
    "            # Fetch and parse the linked page\n",
    "            try:\n",
    "                response_title = requests.get(link)\n",
    "                if response_title.status_code != 200:\n",
    "                    print(f\"Failed to fetch linked page: {link}, Status Code: {response_title.status_code}\")\n",
    "                    continue\n",
    "                \n",
    "                title_soup = BeautifulSoup(response_title.text, 'html.parser')\n",
    "                \n",
    "                # Find all <p> tags with class \"Normal\"\n",
    "                p_tags = title_soup.find_all('p', class_='Normal')\n",
    "                p_contents = [p_tag.text.strip() for p_tag in p_tags]\n",
    "                \n",
    "                content = process_p_contents(p_contents)\n",
    "\n",
    "                scraped_data.append({\n",
    "                    'id': id,\n",
    "                    'link': link,\n",
    "                    'title': title,\n",
    "                    'content': content\n",
    "                })\n",
    "                id += 1\n",
    "\n",
    "            except Exception as e:\n",
    "                print(f\"Error fetching or parsing linked page: {link}, Error: {e}\")\n",
    "                continue\n",
    "\n",
    "    return scraped_data\n",
    "\n",
    "url = 'https://vnexpress.net/thoi-su'\n",
    "data = scrape_data_by_cate(url)\n"
   ]
  },
  {
   "cell_type": "code",
   "execution_count": 53,
   "metadata": {},
   "outputs": [],
   "source": [
    "import json\n",
    "\n",
    "with open('scraped_data.json', 'w', encoding='utf-8') as f:\n",
    "    json.dump(data, f, ensure_ascii=False, indent=4)"
   ]
  },
  {
   "cell_type": "code",
   "execution_count": null,
   "metadata": {},
   "outputs": [],
   "source": []
  }
 ],
 "metadata": {
  "kernelspec": {
   "display_name": "simplebe",
   "language": "python",
   "name": "python3"
  },
  "language_info": {
   "codemirror_mode": {
    "name": "ipython",
    "version": 3
   },
   "file_extension": ".py",
   "mimetype": "text/x-python",
   "name": "python",
   "nbconvert_exporter": "python",
   "pygments_lexer": "ipython3",
   "version": "3.11.9"
  }
 },
 "nbformat": 4,
 "nbformat_minor": 2
}
